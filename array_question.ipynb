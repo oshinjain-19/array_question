{
 "cells": [
  {
   "cell_type": "code",
   "execution_count": 29,
   "id": "d9fc1e7b",
   "metadata": {},
   "outputs": [
    {
     "name": "stdout",
     "output_type": "stream",
     "text": [
      "7 0 14\n",
      "4 7 14\n",
      "11 7 14\n",
      "11 11 14\n",
      "14 11 14\n",
      "o e l\n"
     ]
    }
   ],
   "source": [
    "# WAP to find max and second max char in String?\n",
    "#String s = \"hello\"; \n",
    "import string\n",
    "String = 'hello'\n",
    "max_value = 0\n",
    "max_char = ''\n",
    "min_char= ''\n",
    "min_value = 28100\n",
    "second_max = 0\n",
    "second_char = ''\n",
    "for i in String:\n",
    "    value = string.ascii_lowercase.index(i)\n",
    "    if value > max_value:\n",
    "        max_value = value\n",
    "        max_char = i\n",
    "    elif max_value > value < min_value:\n",
    "        min_value = value\n",
    "        min_char = i\n",
    "for j in String:\n",
    "    value = string.ascii_lowercase.index(j)\n",
    "    if (value > second_max) and (value != max_value):\n",
    "        second_max = value\n",
    "        second_char = j\n",
    "    else:\n",
    "        continue\n",
    "print(max_char, min_char, second_char)\n",
    "        "
   ]
  },
  {
   "cell_type": "code",
   "execution_count": 59,
   "id": "8e502508",
   "metadata": {},
   "outputs": [
    {
     "name": "stdout",
     "output_type": "stream",
     "text": [
      "2 44\n",
      "34 44\n",
      "57 2\n",
      "56 3\n",
      "45 2\n",
      "67 3\n",
      "89 33\n",
      "[57, 45, 67, 89]\n"
     ]
    }
   ],
   "source": [
    "#  WAP to find second max prime elements in the jagged array?\n",
    "import array as arr\n",
    "array1 = arr.array('i',[1,2,34,57,56,45,67,89])\n",
    "prime_list = []\n",
    "for i in array1:\n",
    "    if i ==0 or i ==1:\n",
    "        continue\n",
    "    else:\n",
    "        for j in range(2, int(i/2)+1):\n",
    "            if i%j == 0 :\n",
    "                break\n",
    "            else:\n",
    "                if i not in prime_list:\n",
    "                    prime_list.append(i)\n",
    "              \n",
    "print(prime_list)\n",
    "                "
   ]
  },
  {
   "cell_type": "code",
   "execution_count": 78,
   "id": "6c955f99",
   "metadata": {},
   "outputs": [
    {
     "name": "stdout",
     "output_type": "stream",
     "text": [
      "[12, 3, 34, 56, 7, 21, 67, 88, 89]\n"
     ]
    }
   ],
   "source": [
    "# WAP to sort only odd elements in an array?\n",
    "arr1 = [12, 21,34, 56,67, 89, 3, 88 ,7]\n",
    "odds = sorted([x for x in arr1 if x%2 !=0])\n",
    "odd_index = 0\n",
    "result = []\n",
    "for i in arr1:\n",
    "    if i%2!=0:\n",
    "        result.append(odds[odd_index])\n",
    "        odd_index+=1\n",
    "    else:\n",
    "        result.append(i)\n",
    "print(result)"
   ]
  },
  {
   "cell_type": "code",
   "execution_count": 82,
   "id": "d72e87ac",
   "metadata": {},
   "outputs": [
    {
     "name": "stdout",
     "output_type": "stream",
     "text": [
      "True\n"
     ]
    }
   ],
   "source": [
    "# Check if a key is present in every segment of size k in an array\n",
    "def check_key(arr, k, key):\n",
    "    new_arr1 = arr[:k]\n",
    "    new_arr2 = arr[k:]\n",
    "    if (key in new_arr1) and (key in new_arr2):\n",
    "        return True\n",
    "    else:\n",
    "        return False\n",
    "    \n",
    "print(check_key([12,23,445,56,767,45,23, 45], 3, 23))\n"
   ]
  },
  {
   "cell_type": "code",
   "execution_count": 87,
   "id": "c3919660",
   "metadata": {},
   "outputs": [
    {
     "name": "stdout",
     "output_type": "stream",
     "text": [
      "56675\n",
      "56675 1\n"
     ]
    }
   ],
   "source": [
    "# Find the minimum and maximum element in an array\n",
    "arr12 = arr.array('i', [1,2,34,556,343,56675,56,22,523])\n",
    "max_val = 0\n",
    "min_val = max(arr12)\n",
    "print(min_val)\n",
    "for i in arr12:\n",
    "    if i > max_val:\n",
    "        max_val = i\n",
    "min_val = max_val\n",
    "for j in arr12:\n",
    "    if j<min_val:\n",
    "        min_val=j\n",
    "print(max_val,min_val)"
   ]
  },
  {
   "cell_type": "code",
   "execution_count": 94,
   "id": "d4500644",
   "metadata": {},
   "outputs": [
    {
     "name": "stdout",
     "output_type": "stream",
     "text": [
      "array('i', [1, 2, 3, 5, 6, 7, 8, 9, 45, 57, 23, 55, 65])\n",
      "65 55 23 57 45 9 8 7 6 5 3 2 "
     ]
    }
   ],
   "source": [
    "#Write a program to reverse the array\n",
    "arr13 = arr.array('i', [1,2,3,5,6,7,8,9,45,57,23,55,65])\n",
    "print(arr13)\n",
    "for i in range(len(arr13)-1, 0, -1):\n",
    "    print(arr13[i], end = ' ')"
   ]
  },
  {
   "cell_type": "code",
   "execution_count": 98,
   "id": "9c86dbeb",
   "metadata": {},
   "outputs": [
    {
     "name": "stdout",
     "output_type": "stream",
     "text": [
      "array('i', [1, 3, 6, 7, 8, 9, 12, 23, 45, 55, 57, 65, 75])\n"
     ]
    }
   ],
   "source": [
    "# Write a program to sort the given array\n",
    "arr14 = arr.array('i',[1,12,3,75,6,7,8,9,45,57,23,55,65])\n",
    "for i in range(len(arr14)):\n",
    "    for j in range(i+1, len(arr14)):\n",
    "        if arr14[j-1]> arr14[j]:\n",
    "            arr14[j-1],arr14[j] =arr14[j], arr14[j-1]\n",
    "print(arr14)"
   ]
  },
  {
   "cell_type": "code",
   "execution_count": 99,
   "id": "a31da2d7",
   "metadata": {},
   "outputs": [
    {
     "data": {
      "text/plain": [
       "(57, 6)"
      ]
     },
     "execution_count": 99,
     "metadata": {},
     "output_type": "execute_result"
    }
   ],
   "source": [
    "# Find the Kth largest and Kth smallest number in an array\n",
    "def check_k_largest_smallest(arr15, k):\n",
    "    arr15 = sorted(arr15)\n",
    "    kth_largest = arr15[-k]\n",
    "    kth_smallest = arr15[k-1]\n",
    "    return kth_largest, kth_smallest\n",
    "\n",
    "check_k_largest_smallest([1,12,3,75,6,7,8,9,45,57,23,55,65], 3)"
   ]
  },
  {
   "cell_type": "code",
   "execution_count": 103,
   "id": "42f5b074",
   "metadata": {},
   "outputs": [
    {
     "name": "stdout",
     "output_type": "stream",
     "text": [
      "Enter an integer: 1\n",
      "0\n"
     ]
    }
   ],
   "source": [
    "# Find the occurrence of an integer in the array\n",
    "arr4 = arr.array('i', [12,23,445,56,767,45,23, 45])\n",
    "integer = int(input(\"Enter an integer: \"))\n",
    "for i in arr4:\n",
    "    if integer in arr4:\n",
    "        count = arr4.count(integer)\n",
    "    else:\n",
    "        count = 0\n",
    "\n",
    "print(count)"
   ]
  },
  {
   "cell_type": "code",
   "execution_count": 114,
   "id": "d9dfc669",
   "metadata": {},
   "outputs": [
    {
     "name": "stdout",
     "output_type": "stream",
     "text": [
      "[-34, -98, -76, 23, 45, 56, 45, 94]\n"
     ]
    }
   ],
   "source": [
    "# Move all the negative elements to one side of the array\n",
    "arr5 = arr.array('i', [23, 45,-34, 56,-98, -76, 45, 94])\n",
    "po_el = []\n",
    "neg_elem = []\n",
    "[neg_elem.append(x) if x<0 else po_el.append(x) for x in arr5]\n",
    "neg_elem+=po_el\n",
    "print(neg_elem)\n",
    "        "
   ]
  },
  {
   "cell_type": "code",
   "execution_count": 125,
   "id": "87e7c7de",
   "metadata": {},
   "outputs": [
    {
     "name": "stdout",
     "output_type": "stream",
     "text": [
      "[12, 23, 45]\n"
     ]
    }
   ],
   "source": [
    "# Find duplicates in an array\n",
    "arr6 = arr.array('i', [12,23,445,56,767,45,23, 45, 45,12])\n",
    "du_ar = []\n",
    "[du_ar.append(i) for i in arr6 if (arr6.count(i)>1) and (i not in du_ar)]\n",
    "print(du_ar)"
   ]
  },
  {
   "cell_type": "code",
   "execution_count": null,
   "id": "32baf01f",
   "metadata": {},
   "outputs": [],
   "source": []
  }
 ],
 "metadata": {
  "kernelspec": {
   "display_name": "Python 3 (ipykernel)",
   "language": "python",
   "name": "python3"
  },
  "language_info": {
   "codemirror_mode": {
    "name": "ipython",
    "version": 3
   },
   "file_extension": ".py",
   "mimetype": "text/x-python",
   "name": "python",
   "nbconvert_exporter": "python",
   "pygments_lexer": "ipython3",
   "version": "3.9.7"
  }
 },
 "nbformat": 4,
 "nbformat_minor": 5
}
